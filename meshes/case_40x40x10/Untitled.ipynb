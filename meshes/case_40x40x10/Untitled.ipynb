{
 "cells": [
  {
   "cell_type": "code",
   "execution_count": 2,
   "id": "1e2f7695-1fc8-46e2-8d1b-737e1830403c",
   "metadata": {},
   "outputs": [
    {
     "name": "stdout",
     "output_type": "stream",
     "text": [
      "CBF file generated successfully: fault_test.inc\n"
     ]
    }
   ],
   "source": [
    "# Python script to generate a Connection Based Fault (CBF) file from a GRDECL grid file\n",
    "\n",
    "# Define the input and output file paths\n",
    "grid_file_path = \"grid.grdecl\"  # Modify this path as needed\n",
    "cbf_file_path = \"fault_test.inc\"  # Output file in .inc format\n",
    "\n",
    "# Read the grid file\n",
    "with open(grid_file_path, \"r\") as file:\n",
    "    grid_data = file.readlines()\n",
    "\n",
    "# Extract grid dimensions and MULT factor\n",
    "ni, nj, nk, mult = None, None, None, 1.0  # Default MULT to 1.0\n",
    "for i, line in enumerate(grid_data):\n",
    "    if \"SPECGRID\" in line.strip():  # Check if SPECGRID is found\n",
    "        if i + 1 < len(grid_data):  # Ensure there is a next line\n",
    "            parts = grid_data[i + 1].split()\n",
    "            if len(parts) >= 4:\n",
    "                ni, nj, nk = int(parts[0]), int(parts[1]), int(parts[2])\n",
    "                mult = float(parts[3])  # Extract MULT column\n",
    "        break\n",
    "\n",
    "# Validate that we have the necessary grid size information\n",
    "if ni and nj and nk:\n",
    "    # Define a simple fault boundary along the I=1 boundary\n",
    "    fault_boundary = []\n",
    "    for j in range(1, nj + 1):\n",
    "        for k in range(1, nk + 1):\n",
    "            # Connecting (1,j,k) to (2,j,k) with MULT value\n",
    "            fault_boundary.append(f\"1 {j} {k}   2 {j} {k}   {mult}\")\n",
    "\n",
    "    # Construct the CBF file content in .inc format\n",
    "    cbf_content = (\n",
    "        \"-- Connection Based Fault File\\n\"\n",
    "        \"-- Simple fault along the I=1 boundary\\n\"\n",
    "        \"CONNECTION BASED FAULTS\\n\"\n",
    "        f\"{len(fault_boundary)}\\n\"  # Number of fault connections\n",
    "        + \"\\n\".join(fault_boundary) +\n",
    "        \"\\n/\\n\"\n",
    "    )\n",
    "\n",
    "    # Save the CBF file as an .inc file\n",
    "    with open(cbf_file_path, \"w\") as cbf_file:\n",
    "        cbf_file.write(cbf_content)\n",
    "\n",
    "    print(f\"CBF file generated successfully: {cbf_file_path}\")\n",
    "else:\n",
    "    print(\"Failed to extract grid dimensions from the GRDECL file.\")\n"
   ]
  },
  {
   "cell_type": "code",
   "execution_count": null,
   "id": "11ddb83d-e026-4fd4-9809-97c1e464ddc1",
   "metadata": {},
   "outputs": [],
   "source": []
  }
 ],
 "metadata": {
  "kernelspec": {
   "display_name": "Python 3 (ipykernel)",
   "language": "python",
   "name": "python3"
  },
  "language_info": {
   "codemirror_mode": {
    "name": "ipython",
    "version": 3
   },
   "file_extension": ".py",
   "mimetype": "text/x-python",
   "name": "python",
   "nbconvert_exporter": "python",
   "pygments_lexer": "ipython3",
   "version": "3.9.17"
  }
 },
 "nbformat": 4,
 "nbformat_minor": 5
}
